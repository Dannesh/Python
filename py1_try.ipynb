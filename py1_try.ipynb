{
  "nbformat": 4,
  "nbformat_minor": 0,
  "metadata": {
    "colab": {
      "name": "py1_try.ipynb",
      "provenance": [],
      "authorship_tag": "ABX9TyML7r213Dkcy30IvIVvmepO",
      "include_colab_link": true
    },
    "kernelspec": {
      "name": "python3",
      "display_name": "Python 3"
    },
    "language_info": {
      "name": "python"
    }
  },
  "cells": [
    {
      "cell_type": "markdown",
      "metadata": {
        "id": "view-in-github",
        "colab_type": "text"
      },
      "source": [
        "<a href=\"https://colab.research.google.com/github/Dannesh/Python/blob/main/py1_try.ipynb\" target=\"_parent\"><img src=\"https://colab.research.google.com/assets/colab-badge.svg\" alt=\"Open In Colab\"/></a>"
      ]
    },
    {
      "cell_type": "code",
      "metadata": {
        "id": "Jl_niC-XMI18",
        "colab": {
          "base_uri": "https://localhost:8080/"
        },
        "outputId": "7954abd4-e185-4f57-c32b-00bcfac252f8"
      },
      "source": [
        "x = 2\n",
        "y = 4\n",
        "z = 6\n",
        "m = 8\n",
        "n = x + y\n",
        "l = z*m\n",
        "j = l-n\n",
        "print(j)"
      ],
      "execution_count": null,
      "outputs": [
        {
          "output_type": "stream",
          "text": [
            "42\n"
          ],
          "name": "stdout"
        }
      ]
    }
  ]
}